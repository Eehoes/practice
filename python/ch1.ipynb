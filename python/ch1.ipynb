{
 "cells": [
  {
   "cell_type": "code",
   "execution_count": null,
   "metadata": {},
   "outputs": [
    {
     "name": "stdout",
     "output_type": "stream",
     "text": [
      "Hello Python Programming\n",
      "22 234 Hello\n",
      "안녕하세요저의이름은OOO 입니다.\n",
      "안녕하세요 저의 이름은 OOO 입니다.\n"
     ]
    }
   ],
   "source": [
    "# print() 출력\n",
    "\n",
    "print(\"Hello Python Programming\")\n",
    "\n",
    "# 쉼표로 연결을 해서 여러 개 적어도 가능 \n",
    "print(22, 234, \"Hello\")\n",
    "\n",
    "# 띄어쓰기가 안 되는 것을 볼 수 있음.\n",
    "print(\"안녕하세요\" \"저의\" \"이름은\" \"OOO 입니다.\")\n",
    "\n",
    "# 쉼표를 붙임으로써 띄어쓰기가 추가된 것을 확인할 수 있음.\n",
    "print(\"안녕하세요\" , \"저의\" , \"이름은\",  \"OOO 입니다.\")\n"
   ]
  },
  {
   "cell_type": "code",
   "execution_count": 5,
   "metadata": {},
   "outputs": [
    {
     "name": "stdout",
     "output_type": "stream",
     "text": [
      "Hello\n",
      "\n",
      "World!\n",
      "\n",
      "Hello world \n",
      "\n",
      "Python\n"
     ]
    }
   ],
   "source": [
    "# 줄바꿈\n",
    "print(\"Hello\")\n",
    "print()\n",
    "print(\"World!\")\n",
    "print()\n",
    "\n",
    "print(\"Hello world \\n\")\n",
    "print(\"Python\")"
   ]
  }
 ],
 "metadata": {
  "kernelspec": {
   "display_name": "base",
   "language": "python",
   "name": "python3"
  },
  "language_info": {
   "codemirror_mode": {
    "name": "ipython",
    "version": 3
   },
   "file_extension": ".py",
   "mimetype": "text/x-python",
   "name": "python",
   "nbconvert_exporter": "python",
   "pygments_lexer": "ipython3",
   "version": "3.10.11"
  }
 },
 "nbformat": 4,
 "nbformat_minor": 2
}

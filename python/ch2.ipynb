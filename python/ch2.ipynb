{
 "cells": [
  {
   "cell_type": "code",
   "execution_count": 1,
   "metadata": {},
   "outputs": [
    {
     "name": "stdout",
     "output_type": "stream",
     "text": [
      "안녕하세요\n",
      "\n",
      "안녕하세요\n"
     ]
    }
   ],
   "source": [
    "# 작은따옴표, 큰따옴표 아무거나 써도 똑같은 결과를 출력함.\n",
    "print(\"안녕하세요\\n\")\n",
    "print('안녕하세요')"
   ]
  },
  {
   "cell_type": "code",
   "execution_count": 4,
   "metadata": {},
   "outputs": [
    {
     "name": "stdout",
     "output_type": "stream",
     "text": [
      "\"안녕하세요\" 라고 말했습니다. \n",
      "'안녕하세요' 라고 말했습니다.\n",
      "\\ \\ \\\n"
     ]
    }
   ],
   "source": [
    "# 문자열 내부에 따옴표 넣기\n",
    "print(\"\\\"안녕하세요\\\" 라고 말했습니다. \")\n",
    "print(\"\\'안녕하세요\\' 라고 말했습니다.\")\n",
    "\n",
    "print('\\\\ \\\\ \\\\')"
   ]
  },
  {
   "cell_type": "code",
   "execution_count": 5,
   "metadata": {},
   "outputs": [
    {
     "name": "stdout",
     "output_type": "stream",
     "text": [
      "안녕하세요\n",
      "안녕하세요1\n"
     ]
    }
   ],
   "source": [
    "print(\"안녕\" + \"하세요\")\n",
    "# 에러가 뜨지 않고 잘 작동됨\n",
    "# 출력 : 안녕하세요\n",
    "\n",
    "# print(\"안녕하세요\" + 1)\n",
    "# \"문자끼리만 연결할 수 있고 숫자와는 연결이 불가능하다는 의미의 에러가 뜬다.\"\n",
    "# 따라서 문자열은 무조건 문자열끼리 + 연산자를 사용해서 연결해야 하고, 숫자라 하더라도 문자열과 함께 + 연산하려면\n",
    "# 큰따옴표를 붙여 문자열로 인식시켜야만 오류 없이 결과를 얻을 수 있음.\n",
    "\n",
    "print(\"안녕하세요\" + \"1\")\n"
   ]
  },
  {
   "cell_type": "code",
   "execution_count": 7,
   "metadata": {},
   "outputs": [
    {
     "name": "stdout",
     "output_type": "stream",
     "text": [
      "안녕하세요 안녕하세요 안녕하세요 \n"
     ]
    }
   ],
   "source": [
    "# 문자열 반복 연산자 : *\n",
    "print(\"안녕하세요 \"*3)"
   ]
  },
  {
   "cell_type": "code",
   "execution_count": null,
   "metadata": {},
   "outputs": [
    {
     "name": "stdout",
     "output_type": "stream",
     "text": [
      "녕하세\n",
      "녕하세요\n",
      "안녕하\n"
     ]
    }
   ],
   "source": [
    "# 문자열 범위 선택 연산자 : [:]\n",
    "print(\"안녕하세요\"[1:4])\n",
    "#[1] 부터, [3]까지 출력됨 즉, 녕하세 가 출력\n",
    "\n",
    "print(\"안녕하세요\"[1:]) # 1번부터 끝까지 -- 녕하세요\n",
    "print(\"안녕하세요\"[:3]) # 0번부터 2번까지 -- 안녕하\n",
    "\n",
    "# [] 연산자를 이용해 문자열의 특정 위치에 있는 문자를 참조하는 것을 인덱싱 이라고 하고, \n",
    "# [:] 연산자를 이용해 문자열의 일부를 추출하는 것을 슬라이싱이라고 한다."
   ]
  },
  {
   "cell_type": "code",
   "execution_count": 13,
   "metadata": {},
   "outputs": [
    {
     "name": "stdout",
     "output_type": "stream",
     "text": [
      "5\n",
      "\n",
      "5\n"
     ]
    }
   ],
   "source": [
    "# 문자열 길이 구하기\n",
    "print(len(\"안녕하세요\"))\n",
    "print()\n",
    "\n",
    "a = len(\"Hello\")\n",
    "print(a)"
   ]
  },
  {
   "cell_type": "code",
   "execution_count": null,
   "metadata": {},
   "outputs": [
    {
     "name": "stdout",
     "output_type": "stream",
     "text": [
      "234\n",
      "<class 'int'>\n",
      "\n",
      "234.25\n",
      "<class 'float'>\n",
      "\n",
      "234.25\n",
      "<class 'str'>\n"
     ]
    }
   ],
   "source": [
    "# 숫자\n",
    "\n",
    "print(234)\n",
    "print(type(234))\n",
    "print()\n",
    "\n",
    "print(234.25)\n",
    "print(type(234.25))\n",
    "print()\n",
    "\n",
    "print(\"234.25\")\n",
    "print(type(\"234.25\"))\n",
    "\n"
   ]
  },
  {
   "cell_type": "code",
   "execution_count": 26,
   "metadata": {},
   "outputs": [
    {
     "name": "stdout",
     "output_type": "stream",
     "text": [
      "4 + 2 =  6\n",
      "4 - 2 =  2\n",
      "4 / 2 =  2.0\n",
      "4 * 2 =  8\n",
      "5 % 2 =  1\n",
      "\n",
      "3/2 =  1.5\n",
      "3//2 =  1\n",
      "\n",
      "4**2 = 4^2 =  16\n"
     ]
    }
   ],
   "source": [
    "# 숫자 연산 \n",
    "\n",
    "print(\"4 + 2 = \", 4+2)\n",
    "print(\"4 - 2 = \", 4-2)\n",
    "print(\"4 / 2 = \",4/2)\n",
    "print(\"4 * 2 = \", 4*2)\n",
    "print(\"5 % 2 = \", 5 % 2)\n",
    "print()\n",
    "\n",
    "# 정수 나누기\n",
    "print(\"3/2 = \", 3/2)\n",
    "print(\"3//2 = \",3//2)\n",
    "print()\n",
    "# 두 개의 결과값이 다름. 아래는 소수점 아래를 떼어 버린 값이 출력됨\n",
    "\n",
    "# 제곱 연산자\n",
    "print(\"4**2 = 4^2 = \", 4**2)\n",
    "# 4^2 를 뜻함 \n",
    "\n"
   ]
  },
  {
   "cell_type": "code",
   "execution_count": 36,
   "metadata": {},
   "outputs": [
    {
     "name": "stdout",
     "output_type": "stream",
     "text": [
      "asd\n"
     ]
    }
   ],
   "source": [
    "# 사용자 입력 함수 input()\n",
    "str1 = input()\n",
    "print(str1)"
   ]
  },
  {
   "cell_type": "code",
   "execution_count": 35,
   "metadata": {},
   "outputs": [
    {
     "name": "stdout",
     "output_type": "stream",
     "text": [
      "asdasd\n"
     ]
    }
   ],
   "source": [
    "# 사용자 입력 함수 input()\n",
    "str1 = input(\"아무 문자나 입력하시오 : \")\n",
    "print(str1)\n",
    "\n",
    "# 터미널에 아무 문자나 입력하시오 : 라고 뜨는 것을 확인할 수 있음\n",
    "# 그리고 str의 자료형은 무조건 문자열 자료형이 됨.\n",
    "\n",
    "# print(\"입력 + 100 :\", string+100) \n",
    "# 내가 여기서 입력으로 300을 받아도, 300은 int형식이 아니라 문자열 형태이기 때문에 에러가 뜨는 것을 알 수 있음\n"
   ]
  },
  {
   "cell_type": "code",
   "execution_count": null,
   "metadata": {},
   "outputs": [
    {
     "name": "stdout",
     "output_type": "stream",
     "text": [
      "string_a의 자료형 :   <class 'str'>\n",
      "int_a의 자료형 :   <class 'int'>\n"
     ]
    }
   ],
   "source": [
    "# 문자열 -> 숫자로 바꾸기\n",
    "string_a = input(\"숫자를 입력하시오\")\n",
    "int_a = int(string_a)\n",
    "\n",
    "print(\"string_a의 자료형 :  \", type(string_a))\n",
    "print(\"int_a의 자료형 :  \", type(int_a))\n",
    "\n",
    "# float로도 변환 가능"
   ]
  },
  {
   "cell_type": "code",
   "execution_count": 39,
   "metadata": {},
   "outputs": [
    {
     "name": "stdout",
     "output_type": "stream",
     "text": [
      "52의 자료형 :  <class 'int'>\n",
      "str(52)의 자료형 :  <class 'str'>\n"
     ]
    }
   ],
   "source": [
    "del str\n",
    "\n",
    "# 숫자를 문자열로 바꾸기\n",
    "# str(다른 자료형) \n",
    "a = str(52)\n",
    "\n",
    "print(\"52의 자료형 : \", type(52))\n",
    "print(\"str(52)의 자료형 : \", type(a))\n"
   ]
  },
  {
   "cell_type": "code",
   "execution_count": 46,
   "metadata": {},
   "outputs": [
    {
     "name": "stdout",
     "output_type": "stream",
     "text": [
      "1\n",
      "1 2\n",
      "string_a의 자료형 :  <class 'str'>\n",
      "string_b의 자료형 :  <class 'str'>\n",
      "\n",
      "오십만원\n",
      "format 1 True\n"
     ]
    }
   ],
   "source": [
    "# 문자열의 format()함수\n",
    "# 숫자를 문자열로 변환하는 몇 가지 형태.\n",
    "# 중괄호의 개수와 format 함수 괄호 안 매개변수의 개수는 같아야 함\n",
    "string_a = \"{}\".format(1)\n",
    "string_b = \"{} {}\".format(1,2)\n",
    "\n",
    "print(string_a)\n",
    "print(string_b)\n",
    "print(\"string_a의 자료형 : \",type(string_a))\n",
    "print(\"string_b의 자료형 : \",type(string_b))\n",
    "print()\n",
    "\n",
    "format_a = \"{}만원\".format(\"오십\")\n",
    "format_b = \"{} {} {}\".format(\"format\",1,True)\n",
    "\n",
    "print(format_a)\n",
    "print(format_b)\n",
    "\n",
    "# 숫자가 아니어도 적용할 수 있음.\n"
   ]
  },
  {
   "cell_type": "code",
   "execution_count": 50,
   "metadata": {},
   "outputs": [
    {
     "name": "stdout",
     "output_type": "stream",
     "text": [
      "기본\n",
      "234\n",
      "\n",
      "특정 칸에 출력하기\n",
      "  234\n",
      "       234\n",
      "\n",
      "빈칸을 0으로 채우기\n",
      "0000000234\n",
      "-000000234\n"
     ]
    }
   ],
   "source": [
    "# format 함수의 다양한 기능\n",
    "\n",
    "# 정수\n",
    "output_1 = \"{:d}\".format(234)\n",
    "\n",
    "# 특정 칸에 출력하기\n",
    "output_2 = \"{:5d}\".format(234)\n",
    "output_3 = \"{:10d}\".format(234)\n",
    "\n",
    "# 빈칸을 0으로 채우기\n",
    "output_4 = \"{:010d}\".format(234)\n",
    "output_5 = \"{:010d}\".format(-234)\n",
    "\n",
    "print(\"기본\")\n",
    "print(output_1)\n",
    "print()\n",
    "\n",
    "print(\"특정 칸에 출력하기\")\n",
    "print(output_2)\n",
    "print(output_3)\n",
    "print()\n",
    "\n",
    "print(\"빈칸을 0으로 채우기\")\n",
    "print(output_4)\n",
    "print(output_5)\n",
    "\n"
   ]
  },
  {
   "cell_type": "code",
   "execution_count": null,
   "metadata": {},
   "outputs": [
    {
     "name": "stdout",
     "output_type": "stream",
     "text": [
      "EEHOES\n",
      "asesdfqwe\n"
     ]
    }
   ],
   "source": [
    "# 대소문자 바꾸기 upper(), lower()\n",
    "\n",
    "a = \"Eehoes\" \n",
    "print(a.upper()) # 모두 대문자로 바꿈\n",
    "\n",
    "b = \"ASesdfQWE\"\n",
    "print(b.lower()) # 모두 소문자로 바꿈\n",
    "\n",
    "# 원본은 바뀌지 않는 비파괴적 함수\n"
   ]
  },
  {
   "cell_type": "code",
   "execution_count": 2,
   "metadata": {},
   "outputs": [
    {
     "name": "stdout",
     "output_type": "stream",
     "text": [
      "\n",
      "    안녕하세요\n",
      "문자열의 함수를 알아봅니다.\n",
      "\n",
      "\n",
      "안녕하세요\n",
      "문자열의 함수를 알아봅니다.\n"
     ]
    }
   ],
   "source": [
    "# 문자열 양옆의 공백 제거하기 strip()\n",
    "# strip() : 문자열 양옆의 공백을 제거\n",
    "# lsript() : 문자열 왼쪽의 공백을 제거\n",
    "# rstrip() : 문자열 오른쪽의 공백을 제거\n",
    "\n",
    "input_a = \"\"\"\n",
    "    안녕하세요\n",
    "문자열의 함수를 알아봅니다.\n",
    "\"\"\"\n",
    "\n",
    "print(input_a)\n",
    "print()\n",
    "print(input_a.strip())"
   ]
  },
  {
   "cell_type": "code",
   "execution_count": 4,
   "metadata": {},
   "outputs": [
    {
     "name": "stdout",
     "output_type": "stream",
     "text": [
      "0\n",
      "2\n"
     ]
    }
   ],
   "source": [
    "# 문자열 찾기\n",
    "# find() : 왼쪽부터 찾아서 처음 등장하는 위치를 찾음\n",
    "# rfind() : 오른쪽부터 찾아서 처음 등장하는 위치를 찾음.\n",
    "\n",
    "asd = \"안녕안녕하세요\".find(\"안녕\")\n",
    "print(asd)\n",
    "\n",
    "asdf = \"안녕안녕하세요\".rfind(\"안녕\")\n",
    "print(asdf)"
   ]
  },
  {
   "cell_type": "code",
   "execution_count": null,
   "metadata": {},
   "outputs": [
    {
     "name": "stdout",
     "output_type": "stream",
     "text": [
      "True\n"
     ]
    }
   ],
   "source": [
    "print(\"안녕\" in \"안녕하세요\") \n",
    "# in 연산자를 사용하면 문자열 내부에 어떤 문자열인지 확인할 수 있음"
   ]
  },
  {
   "cell_type": "code",
   "execution_count": 6,
   "metadata": {},
   "outputs": [
    {
     "name": "stdout",
     "output_type": "stream",
     "text": [
      "['10', '20', '30', '40', '50']\n"
     ]
    }
   ],
   "source": [
    "# 문자열 자르기 split()\n",
    "# 괄호 안의 문자열인 공백을 기준으로 자른다.\n",
    "\n",
    "a = \"10 20 30 40 50\".split()\n",
    "print(a)"
   ]
  },
  {
   "cell_type": "code",
   "execution_count": null,
   "metadata": {},
   "outputs": [],
   "source": []
  },
  {
   "cell_type": "code",
   "execution_count": null,
   "metadata": {},
   "outputs": [],
   "source": []
  },
  {
   "cell_type": "code",
   "execution_count": null,
   "metadata": {},
   "outputs": [],
   "source": []
  },
  {
   "cell_type": "code",
   "execution_count": null,
   "metadata": {},
   "outputs": [],
   "source": []
  }
 ],
 "metadata": {
  "kernelspec": {
   "display_name": "base",
   "language": "python",
   "name": "python3"
  },
  "language_info": {
   "codemirror_mode": {
    "name": "ipython",
    "version": 3
   },
   "file_extension": ".py",
   "mimetype": "text/x-python",
   "name": "python",
   "nbconvert_exporter": "python",
   "pygments_lexer": "ipython3",
   "version": "3.10.11"
  }
 },
 "nbformat": 4,
 "nbformat_minor": 2
}

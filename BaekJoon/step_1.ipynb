{
 "cells": [
  {
   "cell_type": "code",
   "execution_count": null,
   "metadata": {},
   "outputs": [],
   "source": [
    "# 1000\n",
    "\n",
    "a,b = map(int, input().split())\n",
    "\n",
    "print(a+b)"
   ]
  },
  {
   "cell_type": "code",
   "execution_count": null,
   "metadata": {},
   "outputs": [],
   "source": [
    "# 1001\n",
    "a,b = map(int, input().split())\n",
    "\n",
    "print(a-b)"
   ]
  },
  {
   "cell_type": "code",
   "execution_count": null,
   "metadata": {},
   "outputs": [],
   "source": [
    "# 2557\n",
    "print(\"Hello World!\")"
   ]
  },
  {
   "cell_type": "code",
   "execution_count": null,
   "metadata": {},
   "outputs": [],
   "source": [
    "# 2588\n",
    "\n",
    "# a = int(input()) # 첫 번째 숫자 입력\n",
    "# b = int(input()) # 두 번째 숫자 입력\n",
    "\n",
    "# output_3 = (a*((b%100)%10))\n",
    "# output_4 = (a*((b%100)//10))\n",
    "# output_5 = (a*(b//100))\n",
    "# output_6 = (output_3 + (output_4*10) + (output_5 *100))\n",
    "\n",
    "\n",
    "# print(output_3)\n",
    "# print(output_4)\n",
    "# print(output_5)\n",
    "# print(output_6)\n",
    "\n",
    "# 다시 풀어보기\n",
    "a=int(input())\n",
    "b=input()\n",
    "\n",
    "for i in range(1,4):\n",
    "    print(a*int(b[-i]))\n",
    "print(a*int(b))"
   ]
  },
  {
   "cell_type": "code",
   "execution_count": 1,
   "metadata": {},
   "outputs": [
    {
     "name": "stdout",
     "output_type": "stream",
     "text": [
      "\\    /\\\n",
      " )  ( ')\n",
      "(  /  )\n",
      " \\(__)|\n"
     ]
    }
   ],
   "source": [
    "# 10171\n",
    "print(\"\"\"\\\\    /\\\\\n",
    " )  ( ')\n",
    "(  /  )\n",
    " \\\\(__)|\"\"\")"
   ]
  },
  {
   "cell_type": "code",
   "execution_count": 2,
   "metadata": {},
   "outputs": [
    {
     "name": "stdout",
     "output_type": "stream",
     "text": [
      "|\\_/|\n",
      "|q p|   /}\n",
      "( 0 )\"\"\"\\\n",
      "|\"^\"`    |\n",
      "||_/=\\\\__|\n"
     ]
    }
   ],
   "source": [
    "# 10172\n",
    "print(\"\"\"|\\\\_/|\n",
    "|q p|   /}\n",
    "( 0 )\\\"\\\"\\\"\\\\\n",
    "|\\\"^\\\"`    |\n",
    "||_/=\\\\\\\\__|\"\"\")"
   ]
  },
  {
   "cell_type": "code",
   "execution_count": null,
   "metadata": {},
   "outputs": [
    {
     "name": "stdout",
     "output_type": "stream",
     "text": [
      "45\n",
      "23\n",
      "374\n",
      "3\n",
      "1\n"
     ]
    }
   ],
   "source": [
    "# 10869\n",
    "a,b = map(int, input().split())\n",
    "\n",
    "print(a+b)\n",
    "print(a-b)\n",
    "print(a*b)\n",
    "print(a//b)\n",
    "print(a%b)"
   ]
  },
  {
   "cell_type": "code",
   "execution_count": null,
   "metadata": {},
   "outputs": [],
   "source": [
    "# 10430\n",
    "A,B,C = map(int, input().split())\n",
    "\n",
    "# (A+B)%C\n",
    "print((A+B)%C)\n",
    "\n",
    "# ((A%C) + (B%C))%C\n",
    "print(((A%C) + (B%C))%C)\n",
    "\n",
    "# (A×B)%C\n",
    "print((A*B)%C)\n",
    "\n",
    "# ((A%C) × (B%C))%C\n",
    "print(((A%C) * (B%C))%C)\n",
    "\n"
   ]
  },
  {
   "cell_type": "code",
   "execution_count": null,
   "metadata": {},
   "outputs": [],
   "source": [
    "# 10926\n",
    "string = input() # 입력 받음\n",
    "\n",
    "print(string + \"??!\")\n",
    "\n",
    "\n"
   ]
  },
  {
   "cell_type": "code",
   "execution_count": 4,
   "metadata": {},
   "outputs": [
    {
     "name": "stdout",
     "output_type": "stream",
     "text": [
      "68\n"
     ]
    }
   ],
   "source": [
    "a,b = map(int, input().split())\n",
    "\n",
    "print(a*b)"
   ]
  },
  {
   "cell_type": "code",
   "execution_count": null,
   "metadata": {},
   "outputs": [],
   "source": [
    "# 11382\n",
    "a,b,c = map(int,input().split())\n",
    "\n",
    "print(a+b+c)\n",
    "\n",
    "# print(sum(map(int,input().split()))) 도 가능.. 우와 "
   ]
  },
  {
   "cell_type": "code",
   "execution_count": null,
   "metadata": {},
   "outputs": [],
   "source": [
    "# 18108\n",
    "year = int(input())# 문자열 -> int 로 바꿔줌\n",
    "\n",
    "print(year - (2541-1998))\n",
    "\n"
   ]
  }
 ],
 "metadata": {
  "kernelspec": {
   "display_name": "base",
   "language": "python",
   "name": "python3"
  },
  "language_info": {
   "codemirror_mode": {
    "name": "ipython",
    "version": 3
   },
   "file_extension": ".py",
   "mimetype": "text/x-python",
   "name": "python",
   "nbconvert_exporter": "python",
   "pygments_lexer": "ipython3",
   "version": "3.10.11"
  }
 },
 "nbformat": 4,
 "nbformat_minor": 2
}

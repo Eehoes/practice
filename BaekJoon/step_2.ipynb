{
 "cells": [
  {
   "cell_type": "code",
   "execution_count": 1,
   "metadata": {},
   "outputs": [
    {
     "name": "stdout",
     "output_type": "stream",
     "text": [
      ">\n"
     ]
    }
   ],
   "source": [
    "# 1330\n",
    "a,b = map(int, input().split())\n",
    "\n",
    "if a>b :\n",
    "    print(\">\")\n",
    "\n",
    "elif a<b :\n",
    "    print(\"<\")\n",
    "\n",
    "else :\n",
    "    print('==')\n"
   ]
  },
  {
   "cell_type": "code",
   "execution_count": 2,
   "metadata": {},
   "outputs": [
    {
     "name": "stdout",
     "output_type": "stream",
     "text": [
      "F\n"
     ]
    }
   ],
   "source": [
    "# 9498\n",
    "a = int(input()) # 점수 입력 받음\n",
    "\n",
    "if 90 <= a <= 100 :\n",
    "    print('A')\n",
    "    \n",
    "elif 80 <= a <= 89 :\n",
    "    print('B')\n",
    "\n",
    "elif 70 <= a <= 79 :\n",
    "    print('C')\n",
    "\n",
    "elif 60 <= a <= 69 :\n",
    "    print('D')\n",
    "    \n",
    "else :\n",
    "    print('F')\n",
    "    \n",
    "\n",
    "# a=int(input())\n",
    "# if a < 60:\n",
    "#     print('F')\n",
    "# elif a < 70:\n",
    "#     print('D')\n",
    "# elif a < 80:\n",
    "#     print('C')\n",
    "# elif a < 90:\n",
    "#     print('B')\n",
    "# else:\n",
    "#     print('A')\n"
   ]
  },
  {
   "cell_type": "code",
   "execution_count": null,
   "metadata": {},
   "outputs": [
    {
     "name": "stdout",
     "output_type": "stream",
     "text": [
      "0\n"
     ]
    }
   ],
   "source": [
    "# 2753\n",
    "a = int(input())\n",
    "\n",
    "# 윤년 1 아니면 0\n",
    "\n",
    "if (a%4==0) and (a%100!=0) :\n",
    "    print(1)\n",
    "    \n",
    "elif a%400==0 :\n",
    "    print(1)\n",
    "    \n",
    "else :\n",
    "    print(0)\n",
    "\n",
    "# year = int(input())\n",
    "\n",
    "# if ((year % 4 == 0) and (year % 100 !=0) or (year % 400 == 0)):\n",
    "#     print('1')\n",
    "# else:\n",
    "#     print('0')\n",
    "\n",
    "\n"
   ]
  },
  {
   "cell_type": "code",
   "execution_count": null,
   "metadata": {},
   "outputs": [
    {
     "name": "stdout",
     "output_type": "stream",
     "text": [
      "1\n"
     ]
    }
   ],
   "source": [
    "# 14681\n",
    "a = int(input())\n",
    "b = int(input())\n",
    "\n",
    "\n",
    "if a>0 and b>0 :\n",
    "    print(1)\n",
    "\n",
    "elif a<0 and b>0 :\n",
    "    print(2)\n",
    "\n",
    "elif a<0 and b<0 :\n",
    "    print(3)\n",
    "\n",
    "else :\n",
    "    print(4)\n",
    "    \n",
    "    \n",
    "# X = int(input()) < 0\n",
    "# Y = int(input()) < 0\n",
    "# print(\"1243\"[X + (Y << 1)])\n",
    "\n"
   ]
  },
  {
   "cell_type": "code",
   "execution_count": 14,
   "metadata": {},
   "outputs": [
    {
     "name": "stdout",
     "output_type": "stream",
     "text": [
      "22 55\n"
     ]
    }
   ],
   "source": [
    "# 2884\n",
    "\n",
    "a,b = map(int,(input().split()))\n",
    "\n",
    "\n",
    "if b >= 45 :\n",
    "    print(a,b-45)\n",
    "elif b < 45 :\n",
    "    if a != 0 :\n",
    "        print(a-1, b+15)\n",
    "    else :\n",
    "        print(23, b+15)\n",
    "\n",
    "\n",
    "\n"
   ]
  },
  {
   "cell_type": "code",
   "execution_count": null,
   "metadata": {},
   "outputs": [
    {
     "name": "stdout",
     "output_type": "stream",
     "text": [
      "1 50\n"
     ]
    }
   ],
   "source": [
    "# 2525\n",
    "hour,min = map(int,input().split())\n",
    "c = int(input())\n",
    "\n",
    "if min+c <=59 :\n",
    "    print(hour, min+c)\n",
    "    \n",
    "else :\n",
    "    if hour+((min+c)//60) > 23 :\n",
    "        print(hour+((min+c)//60)-24,((min+c)%60))\n",
    "    else :\n",
    "        print((hour+((min+c)//60)),((min+c)%60))\n",
    "\n",
    "\n",
    "# A, B = map(int, input().split())\n",
    "# C = int(input())\n",
    "# print((A+(B+C)//60)%24, (B+C)%60)\n",
    "\n"
   ]
  },
  {
   "cell_type": "code",
   "execution_count": 31,
   "metadata": {},
   "outputs": [
    {
     "name": "stdout",
     "output_type": "stream",
     "text": [
      "600\n"
     ]
    }
   ],
   "source": [
    "# 2480\n",
    "\n",
    "a,b,c = map(int,input().split())\n",
    "\n",
    "if a == b and b == c :\n",
    "    print(10000+ a*1000)\n",
    "    \n",
    "elif a==b or a==c :\n",
    "    print(1000+ a*100)\n",
    "\n",
    "elif b==c :\n",
    "    print(1000 + b * 100)\n",
    "    \n",
    "else :\n",
    "    max = a \n",
    "    \n",
    "    if b > max:\n",
    "        max = b\n",
    "\n",
    "    if c > max:\n",
    "        max = c\n",
    "\n",
    "    print(max*100)\n",
    "    \n",
    "\n",
    "\n"
   ]
  }
 ],
 "metadata": {
  "kernelspec": {
   "display_name": "base",
   "language": "python",
   "name": "python3"
  },
  "language_info": {
   "codemirror_mode": {
    "name": "ipython",
    "version": 3
   },
   "file_extension": ".py",
   "mimetype": "text/x-python",
   "name": "python",
   "nbconvert_exporter": "python",
   "pygments_lexer": "ipython3",
   "version": "3.10.11"
  }
 },
 "nbformat": 4,
 "nbformat_minor": 2
}
